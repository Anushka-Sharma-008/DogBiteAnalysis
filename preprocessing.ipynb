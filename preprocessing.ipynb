{
 "cells": [
  {
   "cell_type": "code",
   "execution_count": 1,
   "id": "57cc922f",
   "metadata": {},
   "outputs": [],
   "source": [
    "import pandas as pd\n",
    "import numpy as np"
   ]
  },
  {
   "cell_type": "code",
   "execution_count": 2,
   "id": "4e7b4b1d",
   "metadata": {},
   "outputs": [
    {
     "name": "stderr",
     "output_type": "stream",
     "text": [
      "C:\\Users\\DELL\\AppData\\Local\\Temp\\ipykernel_3172\\4138069365.py:2: DtypeWarning: Columns (3) have mixed types. Specify dtype option on import or set low_memory=False.\n",
      "  df = pd.read_csv('Dog_Bite_Dataset.csv')\n"
     ]
    }
   ],
   "source": [
    "# Load the dataset\n",
    "df = pd.read_csv('Dog_Bite_Dataset.csv')"
   ]
  },
  {
   "cell_type": "code",
   "execution_count": 3,
   "id": "2bfbd51b",
   "metadata": {},
   "outputs": [
    {
     "name": "stdout",
     "output_type": "stream",
     "text": [
      "<class 'pandas.core.frame.DataFrame'>\n",
      "RangeIndex: 76431 entries, 0 to 76430\n",
      "Data columns (total 12 columns):\n",
      " #   Column               Non-Null Count  Dtype  \n",
      "---  ------               --------------  -----  \n",
      " 0   Bite Number          76431 non-null  object \n",
      " 1   Bite Type            76431 non-null  object \n",
      " 2   Incident Date        76431 non-null  object \n",
      " 3   Victim Age           50756 non-null  object \n",
      " 4   Victim Relationship  70373 non-null  object \n",
      " 5   Bite Location        65905 non-null  object \n",
      " 6   Bite Severity        66597 non-null  object \n",
      " 7   Bite Circumstance    64885 non-null  object \n",
      " 8   Controlled By        43675 non-null  object \n",
      " 9   Treatment Cost       56308 non-null  float64\n",
      " 10  Date Reported        75513 non-null  object \n",
      " 11  Incident Location    74152 non-null  object \n",
      "dtypes: float64(1), object(11)\n",
      "memory usage: 7.0+ MB\n"
     ]
    }
   ],
   "source": [
    "# Preview the dataframe structure\n",
    "df.info()"
   ]
  },
  {
   "cell_type": "code",
   "execution_count": 4,
   "id": "0211daa7",
   "metadata": {},
   "outputs": [
    {
     "data": {
      "text/html": [
       "<div>\n",
       "<style scoped>\n",
       "    .dataframe tbody tr th:only-of-type {\n",
       "        vertical-align: middle;\n",
       "    }\n",
       "\n",
       "    .dataframe tbody tr th {\n",
       "        vertical-align: top;\n",
       "    }\n",
       "\n",
       "    .dataframe thead th {\n",
       "        text-align: right;\n",
       "    }\n",
       "</style>\n",
       "<table border=\"1\" class=\"dataframe\">\n",
       "  <thead>\n",
       "    <tr style=\"text-align: right;\">\n",
       "      <th></th>\n",
       "      <th>Bite Number</th>\n",
       "      <th>Bite Type</th>\n",
       "      <th>Incident Date</th>\n",
       "      <th>Victim Age</th>\n",
       "      <th>Victim Relationship</th>\n",
       "      <th>Bite Location</th>\n",
       "      <th>Bite Severity</th>\n",
       "      <th>Bite Circumstance</th>\n",
       "      <th>Controlled By</th>\n",
       "      <th>Treatment Cost</th>\n",
       "      <th>Date Reported</th>\n",
       "      <th>Incident Location</th>\n",
       "    </tr>\n",
       "  </thead>\n",
       "  <tbody>\n",
       "    <tr>\n",
       "      <th>0</th>\n",
       "      <td>B17-009452</td>\n",
       "      <td>CONTACT</td>\n",
       "      <td>2020 Sep 08 07:45:00 AM</td>\n",
       "      <td>NaN</td>\n",
       "      <td>NaN</td>\n",
       "      <td>NaN</td>\n",
       "      <td>NaN</td>\n",
       "      <td>NaN</td>\n",
       "      <td>NaN</td>\n",
       "      <td>0.0</td>\n",
       "      <td>2017 Sep 09 12:00:00 AM</td>\n",
       "      <td>2405 HARTLINE DR ,DALLAS TX 75228</td>\n",
       "    </tr>\n",
       "    <tr>\n",
       "      <th>1</th>\n",
       "      <td>B17-009452</td>\n",
       "      <td>CONTACT</td>\n",
       "      <td>2020 Sep 08 07:45:00 AM</td>\n",
       "      <td>NaN</td>\n",
       "      <td>NaN</td>\n",
       "      <td>NaN</td>\n",
       "      <td>NaN</td>\n",
       "      <td>NaN</td>\n",
       "      <td>NaN</td>\n",
       "      <td>0.0</td>\n",
       "      <td>2017 Sep 09 12:00:00 AM</td>\n",
       "      <td>2405 HARTLINE DR ,DALLAS TX 75228</td>\n",
       "    </tr>\n",
       "    <tr>\n",
       "      <th>2</th>\n",
       "      <td>B17-009452</td>\n",
       "      <td>CONTACT</td>\n",
       "      <td>2020 Sep 08 07:45:00 AM</td>\n",
       "      <td>50</td>\n",
       "      <td>NEIGHBOR</td>\n",
       "      <td>R HAND</td>\n",
       "      <td>MINOR</td>\n",
       "      <td>BITE/SCRAT</td>\n",
       "      <td>NaN</td>\n",
       "      <td>0.0</td>\n",
       "      <td>2017 Sep 09 12:00:00 AM</td>\n",
       "      <td>2405 HARTLINE DR ,DALLAS TX 75228</td>\n",
       "    </tr>\n",
       "    <tr>\n",
       "      <th>3</th>\n",
       "      <td>B18-010201</td>\n",
       "      <td>BITE</td>\n",
       "      <td>2020 Feb 18 06:00:00 PM</td>\n",
       "      <td>NaN</td>\n",
       "      <td>OWNED</td>\n",
       "      <td>HANDS</td>\n",
       "      <td>PUNCTURE</td>\n",
       "      <td>HUGGING</td>\n",
       "      <td>OWNER</td>\n",
       "      <td>0.0</td>\n",
       "      <td>2018 Feb 19 12:00:00 AM</td>\n",
       "      <td>11737 FERNALD AVE ,DALLAS TX 75218</td>\n",
       "    </tr>\n",
       "    <tr>\n",
       "      <th>4</th>\n",
       "      <td>B20-014629</td>\n",
       "      <td>BITE</td>\n",
       "      <td>2020 Jun 10 01:00:00 PM</td>\n",
       "      <td>NaN</td>\n",
       "      <td>STRANGER</td>\n",
       "      <td>L HAND</td>\n",
       "      <td>PUNCTURE</td>\n",
       "      <td>PETTING</td>\n",
       "      <td>OTHER</td>\n",
       "      <td>0.0</td>\n",
       "      <td>2020 Jun 10 12:00:00 AM</td>\n",
       "      <td>8100 DORAN CIR ,DALLAS TX 75238</td>\n",
       "    </tr>\n",
       "  </tbody>\n",
       "</table>\n",
       "</div>"
      ],
      "text/plain": [
       "  Bite Number Bite Type            Incident Date Victim Age  \\\n",
       "0  B17-009452   CONTACT  2020 Sep 08 07:45:00 AM        NaN   \n",
       "1  B17-009452   CONTACT  2020 Sep 08 07:45:00 AM        NaN   \n",
       "2  B17-009452   CONTACT  2020 Sep 08 07:45:00 AM         50   \n",
       "3  B18-010201      BITE  2020 Feb 18 06:00:00 PM        NaN   \n",
       "4  B20-014629      BITE  2020 Jun 10 01:00:00 PM        NaN   \n",
       "\n",
       "  Victim Relationship Bite Location Bite Severity Bite Circumstance  \\\n",
       "0                 NaN           NaN           NaN               NaN   \n",
       "1                 NaN           NaN           NaN               NaN   \n",
       "2            NEIGHBOR        R HAND         MINOR        BITE/SCRAT   \n",
       "3               OWNED         HANDS      PUNCTURE           HUGGING   \n",
       "4            STRANGER        L HAND      PUNCTURE           PETTING   \n",
       "\n",
       "  Controlled By  Treatment Cost           Date Reported   \\\n",
       "0           NaN             0.0  2017 Sep 09 12:00:00 AM   \n",
       "1           NaN             0.0  2017 Sep 09 12:00:00 AM   \n",
       "2           NaN             0.0  2017 Sep 09 12:00:00 AM   \n",
       "3         OWNER             0.0  2018 Feb 19 12:00:00 AM   \n",
       "4         OTHER             0.0  2020 Jun 10 12:00:00 AM   \n",
       "\n",
       "                    Incident Location  \n",
       "0   2405 HARTLINE DR ,DALLAS TX 75228  \n",
       "1   2405 HARTLINE DR ,DALLAS TX 75228  \n",
       "2   2405 HARTLINE DR ,DALLAS TX 75228  \n",
       "3  11737 FERNALD AVE ,DALLAS TX 75218  \n",
       "4     8100 DORAN CIR ,DALLAS TX 75238  "
      ]
     },
     "execution_count": 4,
     "metadata": {},
     "output_type": "execute_result"
    }
   ],
   "source": [
    "# Preview the first few rows\n",
    "df.head()"
   ]
  },
  {
   "cell_type": "code",
   "execution_count": 5,
   "id": "a76c1382",
   "metadata": {},
   "outputs": [
    {
     "name": "stdout",
     "output_type": "stream",
     "text": [
      "Missing Value Percentage: \n",
      "Controlled By          42.856956\n",
      "Victim Age             33.592391\n",
      "Treatment Cost         26.328322\n",
      "Bite Circumstance      15.106436\n",
      "Bite Location          13.771899\n",
      "Bite Severity          12.866507\n",
      "Victim Relationship     7.926103\n",
      "Incident Location       2.981774\n",
      "Date Reported           1.201083\n",
      "dtype: float64\n"
     ]
    }
   ],
   "source": [
    "# Calculate missing values percentage for each column\n",
    "missing_percent = (df.isnull().sum() / len(df)) * 100\n",
    "print(\"Missing Value Percentage: \")\n",
    "print(missing_percent[missing_percent > 0].sort_values(ascending=False))"
   ]
  },
  {
   "cell_type": "code",
   "execution_count": 6,
   "id": "58dc17c2",
   "metadata": {},
   "outputs": [],
   "source": [
    "# Date Conversion and Feature Creation\n",
    "date_cols = ['Incident Date', 'Date Reported ']\n",
    "for col in date_cols:\n",
    "    # Convert to datetime objects, coercing errors to NaT\n",
    "    df[col] = pd.to_datetime(\n",
    "        df[col], \n",
    "        format='%Y %b %d %I:%M:%S %p', # Specifies Year Month Day Hour:Min:Sec AM/PM\n",
    "        errors='coerce'\n",
    "    )"
   ]
  },
  {
   "cell_type": "code",
   "execution_count": 7,
   "id": "2f0a8f20",
   "metadata": {},
   "outputs": [],
   "source": [
    "# New feature: Report Delay (Days)\n",
    "# Calculate the difference in days between report and incident\n",
    "df['Report Delay (Days)'] = (df['Date Reported '] - df['Incident Date']).dt.days\n",
    "# Cap the delay at 0 (meaning no negative delays from data errors)\n",
    "df['Report Delay (Days)'] = df['Report Delay (Days)'].apply(lambda x: max(0, x))"
   ]
  },
  {
   "cell_type": "code",
   "execution_count": 8,
   "id": "d30d9d35",
   "metadata": {},
   "outputs": [],
   "source": [
    "# New Features: Time-based features (from Incident Date)\n",
    "df['Day of Week'] = df['Incident Date'].dt.day_name()\n",
    "df['Incident Hour'] = df['Incident Date'].dt.hour\n",
    "\n",
    "# Function to categorize time of day\n",
    "def categorize_time(hour):\n",
    "    if 5 <= hour < 12:\n",
    "        return 'Morning'\n",
    "    elif 12 <= hour < 17:\n",
    "        return 'Afternoon'\n",
    "    elif 17 <= hour < 21:\n",
    "        return 'Evening'\n",
    "    else:\n",
    "        return 'Night'\n",
    "\n",
    "df['Time of Day'] = df['Incident Hour'].apply(categorize_time)\n",
    "df.drop(columns=['Incident Hour'], inplace=True) # Drop the helper column"
   ]
  },
  {
   "cell_type": "code",
   "execution_count": 9,
   "id": "3327dfb2",
   "metadata": {},
   "outputs": [],
   "source": [
    "# Victim Age Cleaning\n",
    "# Convert to string first, replace non-numeric garbage (e.g., '1 YR', '2 yrs') with NaN\n",
    "# We focus on converting valid ages to numeric and ignoring complex strings for now\n",
    "df['Victim Age'] = pd.to_numeric(\n",
    "    df['Victim Age'].astype(str).str.extract(r'(\\d+)')[0], # Extract digits only\n",
    "    errors='coerce' # Convert non-numeric (including original NaNs and complex strings) to NaN\n",
    ")\n",
    "\n",
    "# Replace missing 'Victim Age' with the median age\n",
    "median_age = df['Victim Age'].median()\n",
    "df['Victim Age'] = df['Victim Age'].fillna(median_age) # Fix 1: Direct assignment\n",
    "\n",
    "# Convert to integer (ages are whole numbers)\n",
    "df['Victim Age'] = df['Victim Age'].astype(int)"
   ]
  },
  {
   "cell_type": "code",
   "execution_count": 10,
   "id": "aecc9d7f",
   "metadata": {},
   "outputs": [],
   "source": [
    "# Incident Location Extraction\n",
    "# Fill NaNs in location column with an empty string to avoid errors\n",
    "df['Incident Location'] = df['Incident Location'].fillna('')\n",
    "\n",
    "# Extract City (using the last word before the comma as a primary proxy)\n",
    "df['City'] = df['Incident Location'].apply(\n",
    "    lambda x: x.split(',')[0].strip().split(' ')[-1] if ',' in x else 'UNKNOWN'\n",
    ")\n",
    "\n",
    "# Extract State (2-letter code)\n",
    "# This regex looks for a 2-letter uppercase code, sometimes followed by a ZIP code.\n",
    "df['State'] = df['Incident Location'].str.extract(r'(\\s[A-Z]{2}\\s|\\s[A-Z]{2}\\d{5})')\n",
    "df['State'] = df['State'].str.strip().str[:2].fillna('UNKNOWN')\n",
    "\n",
    "# Drop the original location column as City/State are extracted\n",
    "df.drop(columns=['Incident Location'], inplace=True)"
   ]
  },
  {
   "cell_type": "code",
   "execution_count": 11,
   "id": "d57ac094",
   "metadata": {},
   "outputs": [],
   "source": [
    "# Text Standardization and Imputation\n",
    "text_cols = ['Victim Relationship', 'Bite Location', 'Bite Severity', 'Bite Circumstance', 'Controlled By', 'Bite Type']\n",
    "\n",
    "for col in text_cols:\n",
    "    # Standardize text: convert to uppercase, strip leading/trailing spaces\n",
    "    df[col] = df[col].astype(str).str.upper().str.strip()\n",
    "    # Replace the string 'NAN' (resulting from filling NaNs) with 'UNKNOWN'\n",
    "    df[col] = df[col].replace('NAN', 'UNKNOWN')"
   ]
  },
  {
   "cell_type": "code",
   "execution_count": 12,
   "id": "bd86420c",
   "metadata": {},
   "outputs": [],
   "source": [
    "# Treatment Cost and Missing Values\n",
    "# Treatment Cost: Impute with 0, assuming missing cost records mean no official cost was logged (often common for '0' in this data)\n",
    "df['Treatment Cost'] = df['Treatment Cost'].fillna(0)"
   ]
  },
  {
   "cell_type": "code",
   "execution_count": 13,
   "id": "2a932a2b",
   "metadata": {},
   "outputs": [],
   "source": [
    "# Drop rows where Incident Date could not be parsed (very few after robust coercion)\n",
    "df = df.dropna(subset=['Incident Date'])"
   ]
  },
  {
   "cell_type": "code",
   "execution_count": 14,
   "id": "aa044e65",
   "metadata": {},
   "outputs": [],
   "source": [
    "# Export to csv\n",
    "df.to_csv('Preprocessed_Dog_Bite_Dataset.csv', index=False)"
   ]
  }
 ],
 "metadata": {
  "kernelspec": {
   "display_name": "Python 3",
   "language": "python",
   "name": "python3"
  },
  "language_info": {
   "codemirror_mode": {
    "name": "ipython",
    "version": 3
   },
   "file_extension": ".py",
   "mimetype": "text/x-python",
   "name": "python",
   "nbconvert_exporter": "python",
   "pygments_lexer": "ipython3",
   "version": "3.12.0"
  }
 },
 "nbformat": 4,
 "nbformat_minor": 5
}
